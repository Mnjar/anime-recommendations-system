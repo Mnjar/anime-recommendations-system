{
 "cells": [
  {
   "cell_type": "code",
   "execution_count": 3,
   "metadata": {},
   "outputs": [],
   "source": [
    "import pandas as pd\n",
    "import matplotlib.pyplot as plt\n",
    "import seaborn as sns\n",
    "import numpy as np\n",
    "import random\n",
    "import tensorflow as tf\n",
    "import matplotlib.pyplot as plt\n",
    "from collections import Counter\n",
    "from sklearn.feature_extraction.text import TfidfVectorizer\n",
    "from sklearn.metrics.pairwise import cosine_similarity\n",
    "from sklearn.model_selection import train_test_split\n",
    "from tensorflow.keras.layers import Input, Embedding, Flatten, Dense, Concatenate\n",
    "from tensorflow.keras.models import Model"
   ]
  },
  {
   "cell_type": "markdown",
   "metadata": {},
   "source": [
    "## Load Dataset"
   ]
  },
  {
   "cell_type": "code",
   "execution_count": null,
   "metadata": {},
   "outputs": [],
   "source": [
    "anime_data = pd.read_csv('../dataset/anime.csv')\n",
    "rating_complete_data = pd.read_csv('../dataset/rating_complete.csv')"
   ]
  },
  {
   "cell_type": "code",
   "execution_count": 6,
   "metadata": {},
   "outputs": [
    {
     "data": {
      "text/html": [
       "<div>\n",
       "<style scoped>\n",
       "    .dataframe tbody tr th:only-of-type {\n",
       "        vertical-align: middle;\n",
       "    }\n",
       "\n",
       "    .dataframe tbody tr th {\n",
       "        vertical-align: top;\n",
       "    }\n",
       "\n",
       "    .dataframe thead th {\n",
       "        text-align: right;\n",
       "    }\n",
       "</style>\n",
       "<table border=\"1\" class=\"dataframe\">\n",
       "  <thead>\n",
       "    <tr style=\"text-align: right;\">\n",
       "      <th></th>\n",
       "      <th>MAL_ID</th>\n",
       "      <th>Name</th>\n",
       "      <th>Score</th>\n",
       "      <th>Genres</th>\n",
       "      <th>English name</th>\n",
       "      <th>Japanese name</th>\n",
       "      <th>Type</th>\n",
       "      <th>Episodes</th>\n",
       "      <th>Aired</th>\n",
       "      <th>Premiered</th>\n",
       "      <th>...</th>\n",
       "      <th>Score-10</th>\n",
       "      <th>Score-9</th>\n",
       "      <th>Score-8</th>\n",
       "      <th>Score-7</th>\n",
       "      <th>Score-6</th>\n",
       "      <th>Score-5</th>\n",
       "      <th>Score-4</th>\n",
       "      <th>Score-3</th>\n",
       "      <th>Score-2</th>\n",
       "      <th>Score-1</th>\n",
       "    </tr>\n",
       "  </thead>\n",
       "  <tbody>\n",
       "    <tr>\n",
       "      <th>0</th>\n",
       "      <td>1</td>\n",
       "      <td>Cowboy Bebop</td>\n",
       "      <td>8.78</td>\n",
       "      <td>Action, Adventure, Comedy, Drama, Sci-Fi, Space</td>\n",
       "      <td>Cowboy Bebop</td>\n",
       "      <td>カウボーイビバップ</td>\n",
       "      <td>TV</td>\n",
       "      <td>26</td>\n",
       "      <td>Apr 3, 1998 to Apr 24, 1999</td>\n",
       "      <td>Spring 1998</td>\n",
       "      <td>...</td>\n",
       "      <td>229170.0</td>\n",
       "      <td>182126.0</td>\n",
       "      <td>131625.0</td>\n",
       "      <td>62330.0</td>\n",
       "      <td>20688.0</td>\n",
       "      <td>8904.0</td>\n",
       "      <td>3184.0</td>\n",
       "      <td>1357.0</td>\n",
       "      <td>741.0</td>\n",
       "      <td>1580.0</td>\n",
       "    </tr>\n",
       "    <tr>\n",
       "      <th>1</th>\n",
       "      <td>5</td>\n",
       "      <td>Cowboy Bebop: Tengoku no Tobira</td>\n",
       "      <td>8.39</td>\n",
       "      <td>Action, Drama, Mystery, Sci-Fi, Space</td>\n",
       "      <td>Cowboy Bebop:The Movie</td>\n",
       "      <td>カウボーイビバップ 天国の扉</td>\n",
       "      <td>Movie</td>\n",
       "      <td>1</td>\n",
       "      <td>Sep 1, 2001</td>\n",
       "      <td>Unknown</td>\n",
       "      <td>...</td>\n",
       "      <td>30043.0</td>\n",
       "      <td>49201.0</td>\n",
       "      <td>49505.0</td>\n",
       "      <td>22632.0</td>\n",
       "      <td>5805.0</td>\n",
       "      <td>1877.0</td>\n",
       "      <td>577.0</td>\n",
       "      <td>221.0</td>\n",
       "      <td>109.0</td>\n",
       "      <td>379.0</td>\n",
       "    </tr>\n",
       "    <tr>\n",
       "      <th>2</th>\n",
       "      <td>6</td>\n",
       "      <td>Trigun</td>\n",
       "      <td>8.24</td>\n",
       "      <td>Action, Sci-Fi, Adventure, Comedy, Drama, Shounen</td>\n",
       "      <td>Trigun</td>\n",
       "      <td>トライガン</td>\n",
       "      <td>TV</td>\n",
       "      <td>26</td>\n",
       "      <td>Apr 1, 1998 to Sep 30, 1998</td>\n",
       "      <td>Spring 1998</td>\n",
       "      <td>...</td>\n",
       "      <td>50229.0</td>\n",
       "      <td>75651.0</td>\n",
       "      <td>86142.0</td>\n",
       "      <td>49432.0</td>\n",
       "      <td>15376.0</td>\n",
       "      <td>5838.0</td>\n",
       "      <td>1965.0</td>\n",
       "      <td>664.0</td>\n",
       "      <td>316.0</td>\n",
       "      <td>533.0</td>\n",
       "    </tr>\n",
       "    <tr>\n",
       "      <th>3</th>\n",
       "      <td>7</td>\n",
       "      <td>Witch Hunter Robin</td>\n",
       "      <td>7.27</td>\n",
       "      <td>Action, Mystery, Police, Supernatural, Drama, ...</td>\n",
       "      <td>Witch Hunter Robin</td>\n",
       "      <td>Witch Hunter ROBIN (ウイッチハンターロビン)</td>\n",
       "      <td>TV</td>\n",
       "      <td>26</td>\n",
       "      <td>Jul 2, 2002 to Dec 24, 2002</td>\n",
       "      <td>Summer 2002</td>\n",
       "      <td>...</td>\n",
       "      <td>2182.0</td>\n",
       "      <td>4806.0</td>\n",
       "      <td>10128.0</td>\n",
       "      <td>11618.0</td>\n",
       "      <td>5709.0</td>\n",
       "      <td>2920.0</td>\n",
       "      <td>1083.0</td>\n",
       "      <td>353.0</td>\n",
       "      <td>164.0</td>\n",
       "      <td>131.0</td>\n",
       "    </tr>\n",
       "    <tr>\n",
       "      <th>4</th>\n",
       "      <td>8</td>\n",
       "      <td>Bouken Ou Beet</td>\n",
       "      <td>6.98</td>\n",
       "      <td>Adventure, Fantasy, Shounen, Supernatural</td>\n",
       "      <td>Beet the Vandel Buster</td>\n",
       "      <td>冒険王ビィト</td>\n",
       "      <td>TV</td>\n",
       "      <td>52</td>\n",
       "      <td>Sep 30, 2004 to Sep 29, 2005</td>\n",
       "      <td>Fall 2004</td>\n",
       "      <td>...</td>\n",
       "      <td>312.0</td>\n",
       "      <td>529.0</td>\n",
       "      <td>1242.0</td>\n",
       "      <td>1713.0</td>\n",
       "      <td>1068.0</td>\n",
       "      <td>634.0</td>\n",
       "      <td>265.0</td>\n",
       "      <td>83.0</td>\n",
       "      <td>50.0</td>\n",
       "      <td>27.0</td>\n",
       "    </tr>\n",
       "  </tbody>\n",
       "</table>\n",
       "<p>5 rows × 35 columns</p>\n",
       "</div>"
      ],
      "text/plain": [
       "   MAL_ID                             Name Score  \\\n",
       "0       1                     Cowboy Bebop  8.78   \n",
       "1       5  Cowboy Bebop: Tengoku no Tobira  8.39   \n",
       "2       6                           Trigun  8.24   \n",
       "3       7               Witch Hunter Robin  7.27   \n",
       "4       8                   Bouken Ou Beet  6.98   \n",
       "\n",
       "                                              Genres            English name  \\\n",
       "0    Action, Adventure, Comedy, Drama, Sci-Fi, Space            Cowboy Bebop   \n",
       "1              Action, Drama, Mystery, Sci-Fi, Space  Cowboy Bebop:The Movie   \n",
       "2  Action, Sci-Fi, Adventure, Comedy, Drama, Shounen                  Trigun   \n",
       "3  Action, Mystery, Police, Supernatural, Drama, ...      Witch Hunter Robin   \n",
       "4          Adventure, Fantasy, Shounen, Supernatural  Beet the Vandel Buster   \n",
       "\n",
       "                      Japanese name   Type Episodes  \\\n",
       "0                         カウボーイビバップ     TV       26   \n",
       "1                    カウボーイビバップ 天国の扉  Movie        1   \n",
       "2                             トライガン     TV       26   \n",
       "3  Witch Hunter ROBIN (ウイッチハンターロビン)     TV       26   \n",
       "4                            冒険王ビィト     TV       52   \n",
       "\n",
       "                          Aired    Premiered  ...  Score-10   Score-9  \\\n",
       "0   Apr 3, 1998 to Apr 24, 1999  Spring 1998  ...  229170.0  182126.0   \n",
       "1                   Sep 1, 2001      Unknown  ...   30043.0   49201.0   \n",
       "2   Apr 1, 1998 to Sep 30, 1998  Spring 1998  ...   50229.0   75651.0   \n",
       "3   Jul 2, 2002 to Dec 24, 2002  Summer 2002  ...    2182.0    4806.0   \n",
       "4  Sep 30, 2004 to Sep 29, 2005    Fall 2004  ...     312.0     529.0   \n",
       "\n",
       "    Score-8  Score-7  Score-6 Score-5 Score-4  Score-3  Score-2  Score-1  \n",
       "0  131625.0  62330.0  20688.0  8904.0  3184.0   1357.0    741.0   1580.0  \n",
       "1   49505.0  22632.0   5805.0  1877.0   577.0    221.0    109.0    379.0  \n",
       "2   86142.0  49432.0  15376.0  5838.0  1965.0    664.0    316.0    533.0  \n",
       "3   10128.0  11618.0   5709.0  2920.0  1083.0    353.0    164.0    131.0  \n",
       "4    1242.0   1713.0   1068.0   634.0   265.0     83.0     50.0     27.0  \n",
       "\n",
       "[5 rows x 35 columns]"
      ]
     },
     "execution_count": 6,
     "metadata": {},
     "output_type": "execute_result"
    }
   ],
   "source": [
    "# Melihat struktur data anime.csv\n",
    "anime_data.head()"
   ]
  },
  {
   "cell_type": "markdown",
   "metadata": {},
   "source": [
    "### Deskripsi variabel animelist.csv\n",
    "Berisi informasi umum mengenai setiap anime yang tersedia di MyAnimeList.\n",
    "\n",
    "- MAL_ID: ID anime dari MyAnimeList\n",
    "- Name: Nama lengkap anime\n",
    "- Score: Skor rata-rata yang diberikan kepada anime dari seluruh pengguna di database MyAnimeList\n",
    "- Genres: Daftar genre anime, dipisahkan dengan koma (contoh: Action, Adventure, Comedy, Drama, Sci-Fi, Space).\n",
    "- English name: Nama lengkap anime dalam bahasa Inggris\n",
    "- Japanese name: Nama lengkap anime dalam bahasa Jepang\n",
    "- Type: Jenis anime, seperti TV, movie, OVA, dan lain sebagainya.\n",
    "- Episodes: Jumlah episode dari anime tersebut.\n",
    "- Aired: Tanggal siaran anime.\n",
    "- Premiered: Musim tayang perdana.\n",
    "- Producers: Daftar produser anime.\n",
    "- Licensors: Daftar pemberi lisensi anime.\n",
    "- Studios: Daftar studio yang memproduksi anime.\n",
    "- Source: Sumber asli cerita anime, misalnya Manga, Light novel, dan lain sebagainya.\n",
    "- Duration: Durasi tiap episode anime, atau movie anime.\n",
    "- Rating: Klasifikasi usia anime.\n",
    "- Ranked: Peringkat berdasarkan skor rata-rata\n",
    "- Popularity: Peringkat berdasarkan jumlah pengguna yang menambahkan anime ke daftar mereka.\n",
    "- Members: Jumlah anggota komunitas yang ada dalam grup anime tersebut.\n",
    "- Favorites: Jumlah pengguna yang menandai anime sebagai \"favorit\".\n",
    "- Watching: Jumlah pengguna yang sedang menonton anime.\n",
    "- Completed: Jumlah pengguna yang telah menyelesaikan menonton anime.\n",
    "- On-Hold: Jumlah pengguna yang menunda menonton anime.\n",
    "- Dropped: Jumlah pengguna yang berhenti menonton anime.\n",
    "- Plan to Watch: Jumlah pengguna yang berencana menonton anime.\n",
    "- Score-1 - Score-10: Jumlah pengguna yang memberikan skor 1 sampai 10."
   ]
  },
  {
   "cell_type": "code",
   "execution_count": 7,
   "metadata": {},
   "outputs": [
    {
     "data": {
      "text/html": [
       "<div>\n",
       "<style scoped>\n",
       "    .dataframe tbody tr th:only-of-type {\n",
       "        vertical-align: middle;\n",
       "    }\n",
       "\n",
       "    .dataframe tbody tr th {\n",
       "        vertical-align: top;\n",
       "    }\n",
       "\n",
       "    .dataframe thead th {\n",
       "        text-align: right;\n",
       "    }\n",
       "</style>\n",
       "<table border=\"1\" class=\"dataframe\">\n",
       "  <thead>\n",
       "    <tr style=\"text-align: right;\">\n",
       "      <th></th>\n",
       "      <th>user_id</th>\n",
       "      <th>anime_id</th>\n",
       "      <th>rating</th>\n",
       "    </tr>\n",
       "  </thead>\n",
       "  <tbody>\n",
       "    <tr>\n",
       "      <th>0</th>\n",
       "      <td>0</td>\n",
       "      <td>430</td>\n",
       "      <td>9</td>\n",
       "    </tr>\n",
       "    <tr>\n",
       "      <th>1</th>\n",
       "      <td>0</td>\n",
       "      <td>1004</td>\n",
       "      <td>5</td>\n",
       "    </tr>\n",
       "    <tr>\n",
       "      <th>2</th>\n",
       "      <td>0</td>\n",
       "      <td>3010</td>\n",
       "      <td>7</td>\n",
       "    </tr>\n",
       "    <tr>\n",
       "      <th>3</th>\n",
       "      <td>0</td>\n",
       "      <td>570</td>\n",
       "      <td>7</td>\n",
       "    </tr>\n",
       "    <tr>\n",
       "      <th>4</th>\n",
       "      <td>0</td>\n",
       "      <td>2762</td>\n",
       "      <td>9</td>\n",
       "    </tr>\n",
       "  </tbody>\n",
       "</table>\n",
       "</div>"
      ],
      "text/plain": [
       "   user_id  anime_id  rating\n",
       "0        0       430       9\n",
       "1        0      1004       5\n",
       "2        0      3010       7\n",
       "3        0       570       7\n",
       "4        0      2762       9"
      ]
     },
     "execution_count": 7,
     "metadata": {},
     "output_type": "execute_result"
    }
   ],
   "source": [
    "# Melihat struktur data rating_complete.csv\n",
    "rating_complete_data.head()"
   ]
  },
  {
   "cell_type": "markdown",
   "metadata": {},
   "source": [
    "### Deskripsi variabel rating_complete.csv\n",
    "Merupakan subset dari animelist.csv, hanya mencakup anime yang sudah selesai ditonton oleh pengguna (watching_status==2), dan memberinya skor (score!=0)\n",
    "\n",
    "- user_id: ID pengguna yang dihasilkan secara acak dan tidak dapat diidentifikasi.\n",
    "- anime_id: ID anime dari MyAnimeList yang telah dinilai oleh pengguna.\n",
    "- rating: Rating atau skor yang diberikan oleh pengguna untuk anime tersebut."
   ]
  },
  {
   "cell_type": "markdown",
   "metadata": {},
   "source": [
    "Data yang akan digunakan pada proyek ini adalah `anime_data`, dan `rating_complete_data`. Maka, definisikan ulang `rating_complete_data` menjadi variable `users_data` agar lebih mudah dimengerti dan sesuai konteks."
   ]
  },
  {
   "cell_type": "code",
   "execution_count": 8,
   "metadata": {},
   "outputs": [
    {
     "data": {
      "text/html": [
       "<div>\n",
       "<style scoped>\n",
       "    .dataframe tbody tr th:only-of-type {\n",
       "        vertical-align: middle;\n",
       "    }\n",
       "\n",
       "    .dataframe tbody tr th {\n",
       "        vertical-align: top;\n",
       "    }\n",
       "\n",
       "    .dataframe thead th {\n",
       "        text-align: right;\n",
       "    }\n",
       "</style>\n",
       "<table border=\"1\" class=\"dataframe\">\n",
       "  <thead>\n",
       "    <tr style=\"text-align: right;\">\n",
       "      <th></th>\n",
       "      <th>user_id</th>\n",
       "      <th>anime_id</th>\n",
       "      <th>rating</th>\n",
       "    </tr>\n",
       "  </thead>\n",
       "  <tbody>\n",
       "    <tr>\n",
       "      <th>0</th>\n",
       "      <td>0</td>\n",
       "      <td>430</td>\n",
       "      <td>9</td>\n",
       "    </tr>\n",
       "    <tr>\n",
       "      <th>1</th>\n",
       "      <td>0</td>\n",
       "      <td>1004</td>\n",
       "      <td>5</td>\n",
       "    </tr>\n",
       "    <tr>\n",
       "      <th>2</th>\n",
       "      <td>0</td>\n",
       "      <td>3010</td>\n",
       "      <td>7</td>\n",
       "    </tr>\n",
       "    <tr>\n",
       "      <th>3</th>\n",
       "      <td>0</td>\n",
       "      <td>570</td>\n",
       "      <td>7</td>\n",
       "    </tr>\n",
       "    <tr>\n",
       "      <th>4</th>\n",
       "      <td>0</td>\n",
       "      <td>2762</td>\n",
       "      <td>9</td>\n",
       "    </tr>\n",
       "  </tbody>\n",
       "</table>\n",
       "</div>"
      ],
      "text/plain": [
       "   user_id  anime_id  rating\n",
       "0        0       430       9\n",
       "1        0      1004       5\n",
       "2        0      3010       7\n",
       "3        0       570       7\n",
       "4        0      2762       9"
      ]
     },
     "execution_count": 8,
     "metadata": {},
     "output_type": "execute_result"
    }
   ],
   "source": [
    "users_data = rating_complete_data.copy()    \n",
    "users_data.head()"
   ]
  },
  {
   "cell_type": "markdown",
   "metadata": {},
   "source": [
    "## EDA"
   ]
  },
  {
   "cell_type": "code",
   "execution_count": 9,
   "metadata": {},
   "outputs": [
    {
     "name": "stdout",
     "output_type": "stream",
     "text": [
      "<class 'pandas.core.frame.DataFrame'>\n",
      "RangeIndex: 57633278 entries, 0 to 57633277\n",
      "Data columns (total 3 columns):\n",
      " #   Column    Dtype\n",
      "---  ------    -----\n",
      " 0   user_id   int64\n",
      " 1   anime_id  int64\n",
      " 2   rating    int64\n",
      "dtypes: int64(3)\n",
      "memory usage: 1.3 GB\n"
     ]
    }
   ],
   "source": [
    "users_data.info()"
   ]
  },
  {
   "cell_type": "code",
   "execution_count": 10,
   "metadata": {},
   "outputs": [
    {
     "data": {
      "text/plain": [
       "(57633278, 3)"
      ]
     },
     "execution_count": 10,
     "metadata": {},
     "output_type": "execute_result"
    }
   ],
   "source": [
    "users_data.shape"
   ]
  },
  {
   "cell_type": "code",
   "execution_count": 11,
   "metadata": {},
   "outputs": [
    {
     "name": "stdout",
     "output_type": "stream",
     "text": [
      "<class 'pandas.core.frame.DataFrame'>\n",
      "RangeIndex: 17562 entries, 0 to 17561\n",
      "Data columns (total 35 columns):\n",
      " #   Column         Non-Null Count  Dtype \n",
      "---  ------         --------------  ----- \n",
      " 0   MAL_ID         17562 non-null  int64 \n",
      " 1   Name           17562 non-null  object\n",
      " 2   Score          17562 non-null  object\n",
      " 3   Genres         17562 non-null  object\n",
      " 4   English name   17562 non-null  object\n",
      " 5   Japanese name  17562 non-null  object\n",
      " 6   Type           17562 non-null  object\n",
      " 7   Episodes       17562 non-null  object\n",
      " 8   Aired          17562 non-null  object\n",
      " 9   Premiered      17562 non-null  object\n",
      " 10  Producers      17562 non-null  object\n",
      " 11  Licensors      17562 non-null  object\n",
      " 12  Studios        17562 non-null  object\n",
      " 13  Source         17562 non-null  object\n",
      " 14  Duration       17562 non-null  object\n",
      " 15  Rating         17562 non-null  object\n",
      " 16  Ranked         17562 non-null  object\n",
      " 17  Popularity     17562 non-null  int64 \n",
      " 18  Members        17562 non-null  int64 \n",
      " 19  Favorites      17562 non-null  int64 \n",
      " 20  Watching       17562 non-null  int64 \n",
      " 21  Completed      17562 non-null  int64 \n",
      " 22  On-Hold        17562 non-null  int64 \n",
      " 23  Dropped        17562 non-null  int64 \n",
      " 24  Plan to Watch  17562 non-null  int64 \n",
      " 25  Score-10       17562 non-null  object\n",
      " 26  Score-9        17562 non-null  object\n",
      " 27  Score-8        17562 non-null  object\n",
      " 28  Score-7        17562 non-null  object\n",
      " 29  Score-6        17562 non-null  object\n",
      " 30  Score-5        17562 non-null  object\n",
      " 31  Score-4        17562 non-null  object\n",
      " 32  Score-3        17562 non-null  object\n",
      " 33  Score-2        17562 non-null  object\n",
      " 34  Score-1        17562 non-null  object\n",
      "dtypes: int64(9), object(26)\n",
      "memory usage: 4.7+ MB\n"
     ]
    }
   ],
   "source": [
    "anime_data.info()"
   ]
  },
  {
   "cell_type": "markdown",
   "metadata": {},
   "source": [
    "Dari output di atas terlihat ada beberapa kolom yang memiliki tidak yang sesuai. Hal tersebut akan diperbaiki pada tahap data cleaning."
   ]
  },
  {
   "cell_type": "markdown",
   "metadata": {},
   "source": [
    "### Top 10 Anime Terpopuler"
   ]
  },
  {
   "cell_type": "code",
   "execution_count": 12,
   "metadata": {},
   "outputs": [
    {
     "data": {
      "text/html": [
       "<div>\n",
       "<style scoped>\n",
       "    .dataframe tbody tr th:only-of-type {\n",
       "        vertical-align: middle;\n",
       "    }\n",
       "\n",
       "    .dataframe tbody tr th {\n",
       "        vertical-align: top;\n",
       "    }\n",
       "\n",
       "    .dataframe thead th {\n",
       "        text-align: right;\n",
       "    }\n",
       "</style>\n",
       "<table border=\"1\" class=\"dataframe\">\n",
       "  <thead>\n",
       "    <tr style=\"text-align: right;\">\n",
       "      <th></th>\n",
       "      <th>Name</th>\n",
       "      <th>Genres</th>\n",
       "      <th>Score</th>\n",
       "      <th>Popularity</th>\n",
       "    </tr>\n",
       "  </thead>\n",
       "  <tbody>\n",
       "    <tr>\n",
       "      <th>1393</th>\n",
       "      <td>Death Note</td>\n",
       "      <td>Mystery, Police, Psychological, Supernatural, ...</td>\n",
       "      <td>8.63</td>\n",
       "      <td>1</td>\n",
       "    </tr>\n",
       "    <tr>\n",
       "      <th>7449</th>\n",
       "      <td>Shingeki no Kyojin</td>\n",
       "      <td>Action, Military, Mystery, Super Power, Drama,...</td>\n",
       "      <td>8.48</td>\n",
       "      <td>2</td>\n",
       "    </tr>\n",
       "    <tr>\n",
       "      <th>3971</th>\n",
       "      <td>Fullmetal Alchemist: Brotherhood</td>\n",
       "      <td>Action, Military, Adventure, Comedy, Drama, Ma...</td>\n",
       "      <td>9.19</td>\n",
       "      <td>3</td>\n",
       "    </tr>\n",
       "    <tr>\n",
       "      <th>6614</th>\n",
       "      <td>Sword Art Online</td>\n",
       "      <td>Action, Game, Adventure, Romance, Fantasy</td>\n",
       "      <td>7.25</td>\n",
       "      <td>4</td>\n",
       "    </tr>\n",
       "    <tr>\n",
       "      <th>10451</th>\n",
       "      <td>One Punch Man</td>\n",
       "      <td>Action, Sci-Fi, Comedy, Parody, Super Power, S...</td>\n",
       "      <td>8.57</td>\n",
       "      <td>5</td>\n",
       "    </tr>\n",
       "    <tr>\n",
       "      <th>11185</th>\n",
       "      <td>Boku no Hero Academia</td>\n",
       "      <td>Action, Comedy, School, Shounen, Super Power</td>\n",
       "      <td>8.11</td>\n",
       "      <td>6</td>\n",
       "    </tr>\n",
       "    <tr>\n",
       "      <th>8646</th>\n",
       "      <td>Tokyo Ghoul</td>\n",
       "      <td>Action, Mystery, Horror, Psychological, Supern...</td>\n",
       "      <td>7.81</td>\n",
       "      <td>7</td>\n",
       "    </tr>\n",
       "    <tr>\n",
       "      <th>10</th>\n",
       "      <td>Naruto</td>\n",
       "      <td>Action, Adventure, Comedy, Super Power, Martia...</td>\n",
       "      <td>7.91</td>\n",
       "      <td>8</td>\n",
       "    </tr>\n",
       "    <tr>\n",
       "      <th>5683</th>\n",
       "      <td>Steins;Gate</td>\n",
       "      <td>Thriller, Sci-Fi</td>\n",
       "      <td>9.11</td>\n",
       "      <td>9</td>\n",
       "    </tr>\n",
       "    <tr>\n",
       "      <th>8148</th>\n",
       "      <td>No Game No Life</td>\n",
       "      <td>Game, Adventure, Comedy, Supernatural, Ecchi, ...</td>\n",
       "      <td>8.2</td>\n",
       "      <td>10</td>\n",
       "    </tr>\n",
       "  </tbody>\n",
       "</table>\n",
       "</div>"
      ],
      "text/plain": [
       "                                   Name  \\\n",
       "1393                         Death Note   \n",
       "7449                 Shingeki no Kyojin   \n",
       "3971   Fullmetal Alchemist: Brotherhood   \n",
       "6614                   Sword Art Online   \n",
       "10451                     One Punch Man   \n",
       "11185             Boku no Hero Academia   \n",
       "8646                        Tokyo Ghoul   \n",
       "10                               Naruto   \n",
       "5683                        Steins;Gate   \n",
       "8148                    No Game No Life   \n",
       "\n",
       "                                                  Genres Score  Popularity  \n",
       "1393   Mystery, Police, Psychological, Supernatural, ...  8.63           1  \n",
       "7449   Action, Military, Mystery, Super Power, Drama,...  8.48           2  \n",
       "3971   Action, Military, Adventure, Comedy, Drama, Ma...  9.19           3  \n",
       "6614           Action, Game, Adventure, Romance, Fantasy  7.25           4  \n",
       "10451  Action, Sci-Fi, Comedy, Parody, Super Power, S...  8.57           5  \n",
       "11185       Action, Comedy, School, Shounen, Super Power  8.11           6  \n",
       "8646   Action, Mystery, Horror, Psychological, Supern...  7.81           7  \n",
       "10     Action, Adventure, Comedy, Super Power, Martia...  7.91           8  \n",
       "5683                                    Thriller, Sci-Fi  9.11           9  \n",
       "8148   Game, Adventure, Comedy, Supernatural, Ecchi, ...   8.2          10  "
      ]
     },
     "execution_count": 12,
     "metadata": {},
     "output_type": "execute_result"
    }
   ],
   "source": [
    "# Filter untuk mengabaikan anime dengan nilai Popularity = 0\n",
    "popularity_data = anime_data[anime_data['Popularity'] > 0]\n",
    "\n",
    "# Mengurutkan berdasarkan Popularity\n",
    "popularity_sorted = popularity_data.sort_values(by='Popularity', ascending=True)\n",
    "\n",
    "# Menampilkan 10 anime teratas\n",
    "top_10_anime = popularity_sorted[['Name', 'Genres', 'Score', 'Popularity']].head(10)\n",
    "\n",
    "top_10_anime"
   ]
  },
  {
   "cell_type": "markdown",
   "metadata": {},
   "source": [
    "Dari hasil di atas, anime Death Note menempati posisi pertama sebagai anime terpopuler, diikitu Shingeki no Kyojin di posisi kedua, dan Fullmetal Alchemist: Brotherhood di posisi ketiga."
   ]
  },
  {
   "cell_type": "markdown",
   "metadata": {},
   "source": [
    "### Top 10 Anime Terfavorit"
   ]
  },
  {
   "cell_type": "code",
   "execution_count": 13,
   "metadata": {},
   "outputs": [
    {
     "data": {
      "image/png": "[encoded data removed]",
      "text/plain": [
       "<Figure size 1500x600 with 1 Axes>"
      ]
     },
     "metadata": {},
     "output_type": "display_data"
    }
   ],
   "source": [
    "favorites_sorted = anime_data.sort_values(by='Favorites', ascending=False)\n",
    "top_10_favorite_anime = favorites_sorted[['Name', 'Favorites']].head(10)\n",
    "\n",
    "plt.figure(figsize=(15,6))\n",
    "sns.barplot(x=top_10_favorite_anime['Favorites'], y=top_10_favorite_anime['Name'])\n",
    "plt.title(\"Top 10 Anime Terfavorit\")\n",
    "plt.show()\n"
   ]
  },
  {
   "cell_type": "markdown",
   "metadata": {},
   "source": [
    "Sedangkan, untuk anime terfavorit di posisi pertama adalah Fullmetal Alchemist: Brotherhood, diikuti Steins;Gate, lalu Hunter x Hunter (2020)."
   ]
  },
  {
   "cell_type": "markdown",
   "metadata": {},
   "source": [
    "### Distribusi Genre"
   ]
  },
  {
   "cell_type": "code",
   "execution_count": 14,
   "metadata": {},
   "outputs": [
    {
     "data": {
      "image/png": "[encoded data removed]",
      "text/plain": [
       "<Figure size 1000x600 with 1 Axes>"
      ]
     },
     "metadata": {},
     "output_type": "display_data"
    }
   ],
   "source": [
    "# Menghitung frekuensi genre\n",
    "genres = ','.join(anime_data['Genres'].dropna()).split(',')\n",
    "genre_count = Counter([genre.strip() for genre in genres])\n",
    "\n",
    "# Mengurutkan genre berdasarkan frekuensi secara ascending\n",
    "sorted_genre_count = dict(sorted(genre_count.items(), key=lambda item: item[1], reverse=True))\n",
    "\n",
    "plt.figure(figsize=(10,6))\n",
    "sns.barplot(x=list(sorted_genre_count.keys()), y=list(sorted_genre_count.values()))\n",
    "plt.xticks(rotation=90)\n",
    "plt.title(\"Distribusi Genre\")\n",
    "plt.show()"
   ]
  },
  {
   "cell_type": "markdown",
   "metadata": {},
   "source": [
    "Genre paling banyak pada data ini adalah Comedy yang mencapai 6000 anime, diikuti genre Action sebanyak sekitar 3900, dan Fantasy sebanyak sekitar 3500"
   ]
  },
  {
   "cell_type": "markdown",
   "metadata": {},
   "source": [
    "### Distribusi Rating Pengguna"
   ]
  },
  {
   "cell_type": "code",
   "execution_count": 15,
   "metadata": {},
   "outputs": [
    {
     "data": {
      "image/png": "[encoded data removed]",
      "text/plain": [
       "<Figure size 640x480 with 1 Axes>"
      ]
     },
     "metadata": {},
     "output_type": "display_data"
    }
   ],
   "source": [
    "sns.histplot(users_data['rating'], bins=10, kde=True)\n",
    "plt.title(\"Distribusi Rating Pengguna\")\n",
    "plt.show()"
   ]
  },
  {
   "cell_type": "markdown",
   "metadata": {},
   "source": [
    "Distribusi rating yang diberikan berada pada rantang 5 hingga 10. Hanya sedikit pengguna yang memberikan rating dibawah 5."
   ]
  },
  {
   "cell_type": "markdown",
   "metadata": {},
   "source": [
    "## Data Preparation"
   ]
  },
  {
   "cell_type": "markdown",
   "metadata": {},
   "source": [
    "### 1. Data Cleaning"
   ]
  },
  {
   "cell_type": "markdown",
   "metadata": {},
   "source": [
    "#### 1.1 Mengubah Tipe Data Yang Tidak Sesuai"
   ]
  },
  {
   "cell_type": "markdown",
   "metadata": {},
   "source": [
    "Kolom Ranked, Episodes, dan kolom Score-1 sampai Score-10 saat ini bertipe data object. Kita akan mengubah tipe datanya menjadi integer. Selama proses ini, nilai yang tidak valid, seperti Unknown, akan diganti dengan 0.\n",
    "\n",
    "Untuk kolom Score, kita akan menghitung rata-rata dari nilai di kolom Score-1 sampai Score-10. Nilai Unknown di kolom-kolom tersebut akan diubah menjadi 0, dan kolom Score akan diubah menjadi float karena ini merupakan kolom yang berisi rata-rata. Rata-rata skor untuk kolom Score akan dihitung dengan menggunakan rumus berikut:\n",
    "\n",
    "$$\\text{Score} = \\frac{1 \\cdot \\text{Score-1} + 2 \\cdot \\text{Score-2} + \\ldots + 10 \\cdot \\text{Score-10}}{\\text{Score-1} + \\text{Score-2} + \\ldots + \\text{Score-10}}$$\n"
   ]
  },
  {
   "cell_type": "code",
   "execution_count": 5,
   "metadata": {},
   "outputs": [
    {
     "data": {
      "text/html": [
       "<div>\n",
       "<style scoped>\n",
       "    .dataframe tbody tr th:only-of-type {\n",
       "        vertical-align: middle;\n",
       "    }\n",
       "\n",
       "    .dataframe tbody tr th {\n",
       "        vertical-align: top;\n",
       "    }\n",
       "\n",
       "    .dataframe thead th {\n",
       "        text-align: right;\n",
       "    }\n",
       "</style>\n",
       "<table border=\"1\" class=\"dataframe\">\n",
       "  <thead>\n",
       "    <tr style=\"text-align: right;\">\n",
       "      <th></th>\n",
       "      <th>Score</th>\n",
       "      <th>Score-1</th>\n",
       "      <th>Score-2</th>\n",
       "      <th>Score-3</th>\n",
       "      <th>Score-4</th>\n",
       "      <th>Score-5</th>\n",
       "      <th>Score-6</th>\n",
       "      <th>Score-7</th>\n",
       "      <th>Score-8</th>\n",
       "      <th>Score-9</th>\n",
       "      <th>Score-10</th>\n",
       "    </tr>\n",
       "  </thead>\n",
       "  <tbody>\n",
       "    <tr>\n",
       "      <th>0</th>\n",
       "      <td>8.78</td>\n",
       "      <td>1580.0</td>\n",
       "      <td>741.0</td>\n",
       "      <td>1357.0</td>\n",
       "      <td>3184.0</td>\n",
       "      <td>8904.0</td>\n",
       "      <td>20688.0</td>\n",
       "      <td>62330.0</td>\n",
       "      <td>131625.0</td>\n",
       "      <td>182126.0</td>\n",
       "      <td>229170.0</td>\n",
       "    </tr>\n",
       "    <tr>\n",
       "      <th>1</th>\n",
       "      <td>8.39</td>\n",
       "      <td>379.0</td>\n",
       "      <td>109.0</td>\n",
       "      <td>221.0</td>\n",
       "      <td>577.0</td>\n",
       "      <td>1877.0</td>\n",
       "      <td>5805.0</td>\n",
       "      <td>22632.0</td>\n",
       "      <td>49505.0</td>\n",
       "      <td>49201.0</td>\n",
       "      <td>30043.0</td>\n",
       "    </tr>\n",
       "    <tr>\n",
       "      <th>2</th>\n",
       "      <td>8.24</td>\n",
       "      <td>533.0</td>\n",
       "      <td>316.0</td>\n",
       "      <td>664.0</td>\n",
       "      <td>1965.0</td>\n",
       "      <td>5838.0</td>\n",
       "      <td>15376.0</td>\n",
       "      <td>49432.0</td>\n",
       "      <td>86142.0</td>\n",
       "      <td>75651.0</td>\n",
       "      <td>50229.0</td>\n",
       "    </tr>\n",
       "    <tr>\n",
       "      <th>3</th>\n",
       "      <td>7.27</td>\n",
       "      <td>131.0</td>\n",
       "      <td>164.0</td>\n",
       "      <td>353.0</td>\n",
       "      <td>1083.0</td>\n",
       "      <td>2920.0</td>\n",
       "      <td>5709.0</td>\n",
       "      <td>11618.0</td>\n",
       "      <td>10128.0</td>\n",
       "      <td>4806.0</td>\n",
       "      <td>2182.0</td>\n",
       "    </tr>\n",
       "    <tr>\n",
       "      <th>4</th>\n",
       "      <td>6.98</td>\n",
       "      <td>27.0</td>\n",
       "      <td>50.0</td>\n",
       "      <td>83.0</td>\n",
       "      <td>265.0</td>\n",
       "      <td>634.0</td>\n",
       "      <td>1068.0</td>\n",
       "      <td>1713.0</td>\n",
       "      <td>1242.0</td>\n",
       "      <td>529.0</td>\n",
       "      <td>312.0</td>\n",
       "    </tr>\n",
       "  </tbody>\n",
       "</table>\n",
       "</div>"
      ],
      "text/plain": [
       "   Score  Score-1  Score-2  Score-3  Score-4  Score-5  Score-6  Score-7  \\\n",
       "0   8.78   1580.0    741.0   1357.0   3184.0   8904.0  20688.0  62330.0   \n",
       "1   8.39    379.0    109.0    221.0    577.0   1877.0   5805.0  22632.0   \n",
       "2   8.24    533.0    316.0    664.0   1965.0   5838.0  15376.0  49432.0   \n",
       "3   7.27    131.0    164.0    353.0   1083.0   2920.0   5709.0  11618.0   \n",
       "4   6.98     27.0     50.0     83.0    265.0    634.0   1068.0   1713.0   \n",
       "\n",
       "    Score-8   Score-9  Score-10  \n",
       "0  131625.0  182126.0  229170.0  \n",
       "1   49505.0   49201.0   30043.0  \n",
       "2   86142.0   75651.0   50229.0  \n",
       "3   10128.0    4806.0    2182.0  \n",
       "4    1242.0     529.0     312.0  "
      ]
     },
     "execution_count": 5,
     "metadata": {},
     "output_type": "execute_result"
    }
   ],
   "source": [
    "# List kolom Score-1 sampai Score-10\n",
    "score_columns = [f'Score-{i}' for i in range(1, 11)]\n",
    "\n",
    "# Ubah 'Unknown' dengan 0 untuk kolom Score-1 sampai Score-10\n",
    "for column in score_columns:\n",
    "    anime_data[column] = anime_data[column].replace('Unknown', 0)\n",
    "    anime_data[column] = pd.to_numeric(anime_data[column], errors='coerce').fillna(0)\n",
    "\n",
    "# Hitung skor rata-rata dari Skor-1 hingga Skor-10 hanya untuk baris yang Skornya 'Unknown'\n",
    "unknown_score_mask = anime_data['Score'] == 'Unknown'\n",
    "\n",
    "# Hitung score mean\n",
    "anime_data.loc[unknown_score_mask, 'Score'] = ((\n",
    "    anime_data.loc[unknown_score_mask, score_columns] * [1, 2, 3, 4, 5, 6, 7, 8, 9, 10]).sum(axis=1) /\n",
    "    anime_data.loc[unknown_score_mask, score_columns].sum(axis=1)\n",
    ")\n",
    "\n",
    "# Convert Score column to numeric and handle any remaining unknowns\n",
    "# Convert kolom Score ke numeric dan isi nilai NaN dengan 0\n",
    "anime_data['Score'] = pd.to_numeric(anime_data['Score'], errors='coerce').fillna(0)\n",
    "\n",
    "# Verify the changes\n",
    "anime_data[['Score'] + score_columns].head()\n"
   ]
  },
  {
   "cell_type": "code",
   "execution_count": 17,
   "metadata": {},
   "outputs": [
    {
     "data": {
      "text/plain": [
       "dtype('float64')"
      ]
     },
     "execution_count": 17,
     "metadata": {},
     "output_type": "execute_result"
    }
   ],
   "source": [
    "anime_data['Score'].dtypes"
   ]
  },
  {
   "cell_type": "markdown",
   "metadata": {},
   "source": [
    "#### 1.2 Cek Missing Values"
   ]
  },
  {
   "cell_type": "code",
   "execution_count": 18,
   "metadata": {},
   "outputs": [
    {
     "name": "stdout",
     "output_type": "stream",
     "text": [
      "Missing pada data anime:\n",
      "MAL_ID           0\n",
      "Name             0\n",
      "Score            0\n",
      "Genres           0\n",
      "English name     0\n",
      "Japanese name    0\n",
      "Type             0\n",
      "Episodes         0\n",
      "Aired            0\n",
      "Premiered        0\n",
      "Producers        0\n",
      "Licensors        0\n",
      "Studios          0\n",
      "Source           0\n",
      "Duration         0\n",
      "Rating           0\n",
      "Ranked           0\n",
      "Popularity       0\n",
      "Members          0\n",
      "Favorites        0\n",
      "Watching         0\n",
      "Completed        0\n",
      "On-Hold          0\n",
      "Dropped          0\n",
      "Plan to Watch    0\n",
      "Score-10         0\n",
      "Score-9          0\n",
      "Score-8          0\n",
      "Score-7          0\n",
      "Score-6          0\n",
      "Score-5          0\n",
      "Score-4          0\n",
      "Score-3          0\n",
      "Score-2          0\n",
      "Score-1          0\n",
      "dtype: int64\n"
     ]
    }
   ],
   "source": [
    "print(\"Missing pada data anime:\")\n",
    "print(anime_data.isnull().sum())\n"
   ]
  },
  {
   "cell_type": "code",
   "execution_count": 19,
   "metadata": {},
   "outputs": [
    {
     "name": "stdout",
     "output_type": "stream",
     "text": [
      "Missing values pada data user:\n",
      "user_id     0\n",
      "anime_id    0\n",
      "rating      0\n",
      "dtype: int64\n"
     ]
    }
   ],
   "source": [
    "print(\"Missing values pada data user:\")\n",
    "print(users_data.isnull().sum())"
   ]
  },
  {
   "cell_type": "markdown",
   "metadata": {},
   "source": [
    "Tidak terdapat missing value pada `anime_data` dan `anime_list_data`"
   ]
  },
  {
   "cell_type": "markdown",
   "metadata": {},
   "source": [
    "#### 1.3 Cek Duplicate Values"
   ]
  },
  {
   "cell_type": "code",
   "execution_count": 20,
   "metadata": {},
   "outputs": [
    {
     "name": "stdout",
     "output_type": "stream",
     "text": [
      "Duplicate values pada data anime:\n",
      "0\n"
     ]
    }
   ],
   "source": [
    "print(\"Duplicate values pada data anime:\")\n",
    "print(anime_data.duplicated().sum())"
   ]
  },
  {
   "cell_type": "code",
   "execution_count": 21,
   "metadata": {},
   "outputs": [
    {
     "name": "stdout",
     "output_type": "stream",
     "text": [
      "Duplicate values pada data user:\n",
      "0\n"
     ]
    }
   ],
   "source": [
    "print(\"Duplicate values pada data user:\")\n",
    "print(users_data.duplicated().sum())"
   ]
  },
  {
   "cell_type": "markdown",
   "metadata": {},
   "source": [
    "Tidak terdapat data duplikat pada kedua data di atas"
   ]
  },
  {
   "cell_type": "markdown",
   "metadata": {},
   "source": [
    "## Modeling"
   ]
  },
  {
   "cell_type": "markdown",
   "metadata": {},
   "source": [
    "### Content-Based Filtering Dengan Cosine Similarity"
   ]
  },
  {
   "cell_type": "markdown",
   "metadata": {},
   "source": [
    "#### TF-IDF Vectorizer\n"
   ]
  },
  {
   "cell_type": "code",
   "execution_count": 6,
   "metadata": {},
   "outputs": [
    {
     "name": "stderr",
     "output_type": "stream",
     "text": [
      "/Users/fajar/anaconda3/lib/python3.11/site-packages/sklearn/feature_extraction/text.py:521: UserWarning: The parameter 'token_pattern' will not be used since 'tokenizer' is not None'\n",
      "  warnings.warn(\n"
     ]
    }
   ],
   "source": [
    "# Inisialisasi TfidfVectorizer\n",
    "tfidf_vectorizer = TfidfVectorizer(tokenizer=lambda x: x.split(', '))\n",
    "\n",
    "# Fit dan transform kolom 'Genres' menjadi matriks TF-IDF\n",
    "genre_tfidf_matrix = tfidf_vectorizer.fit_transform(anime_data['Genres'])\n",
    "\n",
    "# Lihat nama genre yang diubah menjadi fitur (kolom-kolom dalam TF-IDF)\n",
    "genre_feature_names = tfidf_vectorizer.get_feature_names_out()\n",
    "\n",
    "# Konversi hasilnya menjadi DataFrame agar lebih mudah dipahami\n",
    "tfidf_genre_df = pd.DataFrame(genre_tfidf_matrix.toarray(), columns=genre_feature_names)"
   ]
  },
  {
   "cell_type": "code",
   "execution_count": null,
   "metadata": {},
   "outputs": [],
   "source": [
    "# Pilih kolom yang akan disertakan dalam anime yang sudah berisi genre yang sudah diproses TF-IDF\n",
    "columns_to_keep = ['MAL_ID', 'Name', 'Genres']\n",
    "\n",
    "# Simpan data anime yang hanya berisi kolom-kolom yang telah dipilih\n",
    "anime_data_dump = anime_data[columns_to_keep]\n",
    "\n",
    "anime_data_dump.reset_index(drop=True, inplace=True)\n",
    "tfidf_genre_df.reset_index(drop=True, inplace=True)\n",
    "\n",
    "anime_tfidf_df = pd.concat([anime_data_dump, tfidf_genre_df], axis=1)"
   ]
  },
  {
   "cell_type": "code",
   "execution_count": 8,
   "metadata": {},
   "outputs": [
    {
     "data": {
      "text/html": [
       "<div>\n",
       "<style scoped>\n",
       "    .dataframe tbody tr th:only-of-type {\n",
       "        vertical-align: middle;\n",
       "    }\n",
       "\n",
       "    .dataframe tbody tr th {\n",
       "        vertical-align: top;\n",
       "    }\n",
       "\n",
       "    .dataframe thead th {\n",
       "        text-align: right;\n",
       "    }\n",
       "</style>\n",
       "<table border=\"1\" class=\"dataframe\">\n",
       "  <thead>\n",
       "    <tr style=\"text-align: right;\">\n",
       "      <th></th>\n",
       "      <th>MAL_ID</th>\n",
       "      <th>Name</th>\n",
       "      <th>Genres</th>\n",
       "      <th>action</th>\n",
       "      <th>adventure</th>\n",
       "      <th>cars</th>\n",
       "      <th>comedy</th>\n",
       "      <th>dementia</th>\n",
       "      <th>demons</th>\n",
       "      <th>drama</th>\n",
       "      <th>...</th>\n",
       "      <th>slice of life</th>\n",
       "      <th>space</th>\n",
       "      <th>sports</th>\n",
       "      <th>super power</th>\n",
       "      <th>supernatural</th>\n",
       "      <th>thriller</th>\n",
       "      <th>unknown</th>\n",
       "      <th>vampire</th>\n",
       "      <th>yaoi</th>\n",
       "      <th>yuri</th>\n",
       "    </tr>\n",
       "  </thead>\n",
       "  <tbody>\n",
       "    <tr>\n",
       "      <th>0</th>\n",
       "      <td>1</td>\n",
       "      <td>Cowboy Bebop</td>\n",
       "      <td>Action, Adventure, Comedy, Drama, Sci-Fi, Space</td>\n",
       "      <td>0.334820</td>\n",
       "      <td>0.371356</td>\n",
       "      <td>0.0</td>\n",
       "      <td>0.276259</td>\n",
       "      <td>0.0</td>\n",
       "      <td>0.0</td>\n",
       "      <td>0.387558</td>\n",
       "      <td>...</td>\n",
       "      <td>0.0</td>\n",
       "      <td>0.609782</td>\n",
       "      <td>0.0</td>\n",
       "      <td>0.0</td>\n",
       "      <td>0.000000</td>\n",
       "      <td>0.0</td>\n",
       "      <td>0.0</td>\n",
       "      <td>0.0</td>\n",
       "      <td>0.0</td>\n",
       "      <td>0.0</td>\n",
       "    </tr>\n",
       "    <tr>\n",
       "      <th>1</th>\n",
       "      <td>5</td>\n",
       "      <td>Cowboy Bebop: Tengoku no Tobira</td>\n",
       "      <td>Action, Drama, Mystery, Sci-Fi, Space</td>\n",
       "      <td>0.319565</td>\n",
       "      <td>0.000000</td>\n",
       "      <td>0.0</td>\n",
       "      <td>0.000000</td>\n",
       "      <td>0.0</td>\n",
       "      <td>0.0</td>\n",
       "      <td>0.369900</td>\n",
       "      <td>...</td>\n",
       "      <td>0.0</td>\n",
       "      <td>0.582000</td>\n",
       "      <td>0.0</td>\n",
       "      <td>0.0</td>\n",
       "      <td>0.000000</td>\n",
       "      <td>0.0</td>\n",
       "      <td>0.0</td>\n",
       "      <td>0.0</td>\n",
       "      <td>0.0</td>\n",
       "      <td>0.0</td>\n",
       "    </tr>\n",
       "    <tr>\n",
       "      <th>2</th>\n",
       "      <td>6</td>\n",
       "      <td>Trigun</td>\n",
       "      <td>Action, Sci-Fi, Adventure, Comedy, Drama, Shounen</td>\n",
       "      <td>0.372624</td>\n",
       "      <td>0.413285</td>\n",
       "      <td>0.0</td>\n",
       "      <td>0.307451</td>\n",
       "      <td>0.0</td>\n",
       "      <td>0.0</td>\n",
       "      <td>0.431316</td>\n",
       "      <td>...</td>\n",
       "      <td>0.0</td>\n",
       "      <td>0.000000</td>\n",
       "      <td>0.0</td>\n",
       "      <td>0.0</td>\n",
       "      <td>0.000000</td>\n",
       "      <td>0.0</td>\n",
       "      <td>0.0</td>\n",
       "      <td>0.0</td>\n",
       "      <td>0.0</td>\n",
       "      <td>0.0</td>\n",
       "    </tr>\n",
       "    <tr>\n",
       "      <th>3</th>\n",
       "      <td>7</td>\n",
       "      <td>Witch Hunter Robin</td>\n",
       "      <td>Action, Mystery, Police, Supernatural, Drama, ...</td>\n",
       "      <td>0.269951</td>\n",
       "      <td>0.000000</td>\n",
       "      <td>0.0</td>\n",
       "      <td>0.000000</td>\n",
       "      <td>0.0</td>\n",
       "      <td>0.0</td>\n",
       "      <td>0.312471</td>\n",
       "      <td>...</td>\n",
       "      <td>0.0</td>\n",
       "      <td>0.000000</td>\n",
       "      <td>0.0</td>\n",
       "      <td>0.0</td>\n",
       "      <td>0.373954</td>\n",
       "      <td>0.0</td>\n",
       "      <td>0.0</td>\n",
       "      <td>0.0</td>\n",
       "      <td>0.0</td>\n",
       "      <td>0.0</td>\n",
       "    </tr>\n",
       "    <tr>\n",
       "      <th>4</th>\n",
       "      <td>8</td>\n",
       "      <td>Bouken Ou Beet</td>\n",
       "      <td>Adventure, Fantasy, Shounen, Supernatural</td>\n",
       "      <td>0.000000</td>\n",
       "      <td>0.457134</td>\n",
       "      <td>0.0</td>\n",
       "      <td>0.000000</td>\n",
       "      <td>0.0</td>\n",
       "      <td>0.0</td>\n",
       "      <td>0.000000</td>\n",
       "      <td>...</td>\n",
       "      <td>0.0</td>\n",
       "      <td>0.000000</td>\n",
       "      <td>0.0</td>\n",
       "      <td>0.0</td>\n",
       "      <td>0.570949</td>\n",
       "      <td>0.0</td>\n",
       "      <td>0.0</td>\n",
       "      <td>0.0</td>\n",
       "      <td>0.0</td>\n",
       "      <td>0.0</td>\n",
       "    </tr>\n",
       "  </tbody>\n",
       "</table>\n",
       "<p>5 rows × 47 columns</p>\n",
       "</div>"
      ],
      "text/plain": [
       "   MAL_ID                             Name  \\\n",
       "0       1                     Cowboy Bebop   \n",
       "1       5  Cowboy Bebop: Tengoku no Tobira   \n",
       "2       6                           Trigun   \n",
       "3       7               Witch Hunter Robin   \n",
       "4       8                   Bouken Ou Beet   \n",
       "\n",
       "                                              Genres    action  adventure  \\\n",
       "0    Action, Adventure, Comedy, Drama, Sci-Fi, Space  0.334820   0.371356   \n",
       "1              Action, Drama, Mystery, Sci-Fi, Space  0.319565   0.000000   \n",
       "2  Action, Sci-Fi, Adventure, Comedy, Drama, Shounen  0.372624   0.413285   \n",
       "3  Action, Mystery, Police, Supernatural, Drama, ...  0.269951   0.000000   \n",
       "4          Adventure, Fantasy, Shounen, Supernatural  0.000000   0.457134   \n",
       "\n",
       "   cars    comedy  dementia  demons     drama  ...  slice of life     space  \\\n",
       "0   0.0  0.276259       0.0     0.0  0.387558  ...            0.0  0.609782   \n",
       "1   0.0  0.000000       0.0     0.0  0.369900  ...            0.0  0.582000   \n",
       "2   0.0  0.307451       0.0     0.0  0.431316  ...            0.0  0.000000   \n",
       "3   0.0  0.000000       0.0     0.0  0.312471  ...            0.0  0.000000   \n",
       "4   0.0  0.000000       0.0     0.0  0.000000  ...            0.0  0.000000   \n",
       "\n",
       "   sports  super power  supernatural  thriller  unknown  vampire  yaoi  yuri  \n",
       "0     0.0          0.0      0.000000       0.0      0.0      0.0   0.0   0.0  \n",
       "1     0.0          0.0      0.000000       0.0      0.0      0.0   0.0   0.0  \n",
       "2     0.0          0.0      0.000000       0.0      0.0      0.0   0.0   0.0  \n",
       "3     0.0          0.0      0.373954       0.0      0.0      0.0   0.0   0.0  \n",
       "4     0.0          0.0      0.570949       0.0      0.0      0.0   0.0   0.0  \n",
       "\n",
       "[5 rows x 47 columns]"
      ]
     },
     "execution_count": 8,
     "metadata": {},
     "output_type": "execute_result"
    }
   ],
   "source": [
    "anime_tfidf_df.head()"
   ]
  },
  {
   "cell_type": "markdown",
   "metadata": {},
   "source": [
    "#### Cosine Similarity Matrix"
   ]
  },
  {
   "cell_type": "code",
   "execution_count": 12,
   "metadata": {},
   "outputs": [],
   "source": [
    "similarity_matrix = cosine_similarity(anime_tfidf_df.drop(columns=['MAL_ID', 'Name', 'Genres']))"
   ]
  },
  {
   "cell_type": "code",
   "execution_count": 27,
   "metadata": {},
   "outputs": [
    {
     "data": {
      "text/html": [
       "<div>\n",
       "<style scoped>\n",
       "    .dataframe tbody tr th:only-of-type {\n",
       "        vertical-align: middle;\n",
       "    }\n",
       "\n",
       "    .dataframe tbody tr th {\n",
       "        vertical-align: top;\n",
       "    }\n",
       "\n",
       "    .dataframe thead th {\n",
       "        text-align: right;\n",
       "    }\n",
       "</style>\n",
       "<table border=\"1\" class=\"dataframe\">\n",
       "  <thead>\n",
       "    <tr style=\"text-align: right;\">\n",
       "      <th></th>\n",
       "      <th>MAL_ID</th>\n",
       "      <th>Name</th>\n",
       "      <th>Genres</th>\n",
       "    </tr>\n",
       "  </thead>\n",
       "  <tbody>\n",
       "    <tr>\n",
       "      <th>0</th>\n",
       "      <td>1</td>\n",
       "      <td>Cowboy Bebop</td>\n",
       "      <td>Action, Adventure, Comedy, Drama, Sci-Fi, Space</td>\n",
       "    </tr>\n",
       "    <tr>\n",
       "      <th>1</th>\n",
       "      <td>5</td>\n",
       "      <td>Cowboy Bebop: Tengoku no Tobira</td>\n",
       "      <td>Action, Drama, Mystery, Sci-Fi, Space</td>\n",
       "    </tr>\n",
       "    <tr>\n",
       "      <th>2</th>\n",
       "      <td>6</td>\n",
       "      <td>Trigun</td>\n",
       "      <td>Action, Sci-Fi, Adventure, Comedy, Drama, Shounen</td>\n",
       "    </tr>\n",
       "    <tr>\n",
       "      <th>3</th>\n",
       "      <td>7</td>\n",
       "      <td>Witch Hunter Robin</td>\n",
       "      <td>Action, Mystery, Police, Supernatural, Drama, ...</td>\n",
       "    </tr>\n",
       "    <tr>\n",
       "      <th>4</th>\n",
       "      <td>8</td>\n",
       "      <td>Bouken Ou Beet</td>\n",
       "      <td>Adventure, Fantasy, Shounen, Supernatural</td>\n",
       "    </tr>\n",
       "    <tr>\n",
       "      <th>5</th>\n",
       "      <td>15</td>\n",
       "      <td>Eyeshield 21</td>\n",
       "      <td>Action, Sports, Comedy, Shounen</td>\n",
       "    </tr>\n",
       "    <tr>\n",
       "      <th>6</th>\n",
       "      <td>16</td>\n",
       "      <td>Hachimitsu to Clover</td>\n",
       "      <td>Comedy, Drama, Josei, Romance, Slice of Life</td>\n",
       "    </tr>\n",
       "    <tr>\n",
       "      <th>7</th>\n",
       "      <td>17</td>\n",
       "      <td>Hungry Heart: Wild Striker</td>\n",
       "      <td>Slice of Life, Comedy, Sports, Shounen</td>\n",
       "    </tr>\n",
       "    <tr>\n",
       "      <th>8</th>\n",
       "      <td>18</td>\n",
       "      <td>Initial D Fourth Stage</td>\n",
       "      <td>Action, Cars, Sports, Drama, Seinen</td>\n",
       "    </tr>\n",
       "    <tr>\n",
       "      <th>9</th>\n",
       "      <td>19</td>\n",
       "      <td>Monster</td>\n",
       "      <td>Drama, Horror, Mystery, Police, Psychological,...</td>\n",
       "    </tr>\n",
       "    <tr>\n",
       "      <th>10</th>\n",
       "      <td>20</td>\n",
       "      <td>Naruto</td>\n",
       "      <td>Action, Adventure, Comedy, Super Power, Martia...</td>\n",
       "    </tr>\n",
       "    <tr>\n",
       "      <th>11</th>\n",
       "      <td>21</td>\n",
       "      <td>One Piece</td>\n",
       "      <td>Action, Adventure, Comedy, Super Power, Drama,...</td>\n",
       "    </tr>\n",
       "    <tr>\n",
       "      <th>12</th>\n",
       "      <td>22</td>\n",
       "      <td>Tennis no Ouji-sama</td>\n",
       "      <td>Action, Comedy, Sports, School, Shounen</td>\n",
       "    </tr>\n",
       "    <tr>\n",
       "      <th>13</th>\n",
       "      <td>23</td>\n",
       "      <td>Ring ni Kakero 1</td>\n",
       "      <td>Action, Shounen, Sports</td>\n",
       "    </tr>\n",
       "    <tr>\n",
       "      <th>14</th>\n",
       "      <td>24</td>\n",
       "      <td>School Rumble</td>\n",
       "      <td>Comedy, Romance, School, Shounen</td>\n",
       "    </tr>\n",
       "  </tbody>\n",
       "</table>\n",
       "</div>"
      ],
      "text/plain": [
       "    MAL_ID                             Name  \\\n",
       "0        1                     Cowboy Bebop   \n",
       "1        5  Cowboy Bebop: Tengoku no Tobira   \n",
       "2        6                           Trigun   \n",
       "3        7               Witch Hunter Robin   \n",
       "4        8                   Bouken Ou Beet   \n",
       "5       15                     Eyeshield 21   \n",
       "6       16             Hachimitsu to Clover   \n",
       "7       17       Hungry Heart: Wild Striker   \n",
       "8       18           Initial D Fourth Stage   \n",
       "9       19                          Monster   \n",
       "10      20                           Naruto   \n",
       "11      21                        One Piece   \n",
       "12      22              Tennis no Ouji-sama   \n",
       "13      23                 Ring ni Kakero 1   \n",
       "14      24                    School Rumble   \n",
       "\n",
       "                                               Genres  \n",
       "0     Action, Adventure, Comedy, Drama, Sci-Fi, Space  \n",
       "1               Action, Drama, Mystery, Sci-Fi, Space  \n",
       "2   Action, Sci-Fi, Adventure, Comedy, Drama, Shounen  \n",
       "3   Action, Mystery, Police, Supernatural, Drama, ...  \n",
       "4           Adventure, Fantasy, Shounen, Supernatural  \n",
       "5                     Action, Sports, Comedy, Shounen  \n",
       "6        Comedy, Drama, Josei, Romance, Slice of Life  \n",
       "7              Slice of Life, Comedy, Sports, Shounen  \n",
       "8                 Action, Cars, Sports, Drama, Seinen  \n",
       "9   Drama, Horror, Mystery, Police, Psychological,...  \n",
       "10  Action, Adventure, Comedy, Super Power, Martia...  \n",
       "11  Action, Adventure, Comedy, Super Power, Drama,...  \n",
       "12            Action, Comedy, Sports, School, Shounen  \n",
       "13                            Action, Shounen, Sports  \n",
       "14                   Comedy, Romance, School, Shounen  "
      ]
     },
     "execution_count": 27,
     "metadata": {},
     "output_type": "execute_result"
    }
   ],
   "source": [
    "anime_tfidf_df[['MAL_ID', 'Name', 'Genres']].head(15)"
   ]
  },
  {
   "cell_type": "markdown",
   "metadata": {},
   "source": [
    "#### Mendapatkan Top-N Recommendations"
   ]
  },
  {
   "cell_type": "code",
   "execution_count": 14,
   "metadata": {},
   "outputs": [
    {
     "name": "stdout",
     "output_type": "stream",
     "text": [
      "Top 10 Rekomendasi Anime\n"
     ]
    },
    {
     "data": {
      "text/html": [
       "<div>\n",
       "<style scoped>\n",
       "    .dataframe tbody tr th:only-of-type {\n",
       "        vertical-align: middle;\n",
       "    }\n",
       "\n",
       "    .dataframe tbody tr th {\n",
       "        vertical-align: top;\n",
       "    }\n",
       "\n",
       "    .dataframe thead th {\n",
       "        text-align: right;\n",
       "    }\n",
       "</style>\n",
       "<table border=\"1\" class=\"dataframe\">\n",
       "  <thead>\n",
       "    <tr style=\"text-align: right;\">\n",
       "      <th></th>\n",
       "      <th>MAL_ID</th>\n",
       "      <th>Name</th>\n",
       "      <th>Score</th>\n",
       "      <th>Genres</th>\n",
       "      <th>Relevance</th>\n",
       "    </tr>\n",
       "  </thead>\n",
       "  <tbody>\n",
       "    <tr>\n",
       "      <th>1574</th>\n",
       "      <td>1735</td>\n",
       "      <td>Naruto: Shippuuden</td>\n",
       "      <td>8.16</td>\n",
       "      <td>Action, Adventure, Comedy, Super Power, Martia...</td>\n",
       "      <td>True</td>\n",
       "    </tr>\n",
       "    <tr>\n",
       "      <th>12802</th>\n",
       "      <td>35072</td>\n",
       "      <td>Boruto: Jump Festa 2016 Special</td>\n",
       "      <td>6.22</td>\n",
       "      <td>Action, Adventure, Comedy, Super Power, Martia...</td>\n",
       "      <td>True</td>\n",
       "    </tr>\n",
       "    <tr>\n",
       "      <th>214</th>\n",
       "      <td>238</td>\n",
       "      <td>Rekka no Honoo</td>\n",
       "      <td>7.36</td>\n",
       "      <td>Action, Adventure, Martial Arts, Shounen, Supe...</td>\n",
       "      <td>True</td>\n",
       "    </tr>\n",
       "    <tr>\n",
       "      <th>6319</th>\n",
       "      <td>10686</td>\n",
       "      <td>Naruto: Honoo no Chuunin Shiken! Naruto vs. Ko...</td>\n",
       "      <td>7.16</td>\n",
       "      <td>Action, Adventure, Martial Arts, Shounen, Supe...</td>\n",
       "      <td>True</td>\n",
       "    </tr>\n",
       "    <tr>\n",
       "      <th>7021</th>\n",
       "      <td>13667</td>\n",
       "      <td>Naruto: Shippuuden Movie 6 - Road to Ninja</td>\n",
       "      <td>7.67</td>\n",
       "      <td>Action, Adventure, Super Power, Martial Arts, ...</td>\n",
       "      <td>True</td>\n",
       "    </tr>\n",
       "    <tr>\n",
       "      <th>12492</th>\n",
       "      <td>34566</td>\n",
       "      <td>Boruto: Naruto Next Generations</td>\n",
       "      <td>5.81</td>\n",
       "      <td>Action, Adventure, Super Power, Martial Arts, ...</td>\n",
       "      <td>False</td>\n",
       "    </tr>\n",
       "    <tr>\n",
       "      <th>734</th>\n",
       "      <td>813</td>\n",
       "      <td>Dragon Ball Z</td>\n",
       "      <td>8.16</td>\n",
       "      <td>Action, Adventure, Comedy, Fantasy, Martial Ar...</td>\n",
       "      <td>True</td>\n",
       "    </tr>\n",
       "    <tr>\n",
       "      <th>819</th>\n",
       "      <td>904</td>\n",
       "      <td>Dragon Ball Z Movie 11: Super Senshi Gekiha!! ...</td>\n",
       "      <td>5.90</td>\n",
       "      <td>Action, Adventure, Comedy, Fantasy, Martial Ar...</td>\n",
       "      <td>False</td>\n",
       "    </tr>\n",
       "    <tr>\n",
       "      <th>892</th>\n",
       "      <td>987</td>\n",
       "      <td>Dragon Ball GT: Gokuu Gaiden! Yuuki no Akashi ...</td>\n",
       "      <td>6.54</td>\n",
       "      <td>Action, Adventure, Comedy, Super Power, Martia...</td>\n",
       "      <td>True</td>\n",
       "    </tr>\n",
       "    <tr>\n",
       "      <th>4426</th>\n",
       "      <td>6033</td>\n",
       "      <td>Dragon Ball Kai</td>\n",
       "      <td>7.73</td>\n",
       "      <td>Action, Adventure, Comedy, Fantasy, Martial Ar...</td>\n",
       "      <td>True</td>\n",
       "    </tr>\n",
       "  </tbody>\n",
       "</table>\n",
       "</div>"
      ],
      "text/plain": [
       "       MAL_ID                                               Name  Score  \\\n",
       "1574     1735                                 Naruto: Shippuuden   8.16   \n",
       "12802   35072                    Boruto: Jump Festa 2016 Special   6.22   \n",
       "214       238                                     Rekka no Honoo   7.36   \n",
       "6319    10686  Naruto: Honoo no Chuunin Shiken! Naruto vs. Ko...   7.16   \n",
       "7021    13667         Naruto: Shippuuden Movie 6 - Road to Ninja   7.67   \n",
       "12492   34566                    Boruto: Naruto Next Generations   5.81   \n",
       "734       813                                      Dragon Ball Z   8.16   \n",
       "819       904  Dragon Ball Z Movie 11: Super Senshi Gekiha!! ...   5.90   \n",
       "892       987  Dragon Ball GT: Gokuu Gaiden! Yuuki no Akashi ...   6.54   \n",
       "4426     6033                                    Dragon Ball Kai   7.73   \n",
       "\n",
       "                                                  Genres  Relevance  \n",
       "1574   Action, Adventure, Comedy, Super Power, Martia...       True  \n",
       "12802  Action, Adventure, Comedy, Super Power, Martia...       True  \n",
       "214    Action, Adventure, Martial Arts, Shounen, Supe...       True  \n",
       "6319   Action, Adventure, Martial Arts, Shounen, Supe...       True  \n",
       "7021   Action, Adventure, Super Power, Martial Arts, ...       True  \n",
       "12492  Action, Adventure, Super Power, Martial Arts, ...      False  \n",
       "734    Action, Adventure, Comedy, Fantasy, Martial Ar...       True  \n",
       "819    Action, Adventure, Comedy, Fantasy, Martial Ar...      False  \n",
       "892    Action, Adventure, Comedy, Super Power, Martia...       True  \n",
       "4426   Action, Adventure, Comedy, Fantasy, Martial Ar...       True  "
      ]
     },
     "execution_count": 14,
     "metadata": {},
     "output_type": "execute_result"
    }
   ],
   "source": [
    "def recommend_anime(anime_id, num_recommendations=10):\n",
    "    idx = anime_data[anime_data['MAL_ID'] == anime_id].index[0]\n",
    "    sim_scores = list(enumerate(similarity_matrix[idx]))\n",
    "    sim_scores = sorted(sim_scores, key=lambda x: x[1], reverse=True)\n",
    "    sim_indices = [i[0] for i in sim_scores[1:num_recommendations + 1]]\n",
    "    \n",
    "    return anime_data.iloc[sim_indices][['MAL_ID', 'Name', 'Score', 'Genres']]\n",
    "\n",
    "# Menampilkan rekomendasi anime\n",
    "recommended_anime = recommend_anime(anime_id=20)\n",
    "\n",
    "# Menentukan relevansi berdasarkan rating > 7\n",
    "recommended_anime['Relevance'] = recommended_anime['Score'] > 6.0\n",
    "\n",
    "# Menampilkan rekomendasi dan relevansi\n",
    "print(\"Top 10 Rekomendasi Anime\")\n",
    "recommended_anime"
   ]
  },
  {
   "cell_type": "markdown",
   "metadata": {},
   "source": [
    "#### Evaluasi"
   ]
  },
  {
   "cell_type": "markdown",
   "metadata": {},
   "source": [
    "Metrik evaluasi menggunakan Precission"
   ]
  },
  {
   "cell_type": "code",
   "execution_count": 15,
   "metadata": {},
   "outputs": [
    {
     "name": "stdout",
     "output_type": "stream",
     "text": [
      "\n",
      "Precision: 0.80\n"
     ]
    }
   ],
   "source": [
    "# Menghitung Precision\n",
    "relevant_recommendations = recommended_anime[recommended_anime['Relevance'] == True]\n",
    "precision = len(relevant_recommendations) / len(recommended_anime)\n",
    "print(f\"\\nPrecision: {precision:.2f}\")"
   ]
  },
  {
   "cell_type": "markdown",
   "metadata": {},
   "source": [
    "### Collaborative Filtering dengan Neural Network"
   ]
  },
  {
   "cell_type": "markdown",
   "metadata": {},
   "source": [
    "#### 1. Data Preparation Untuk Model Collaborative Filtering"
   ]
  },
  {
   "cell_type": "markdown",
   "metadata": {},
   "source": [
    "##### 1.1 Pengambilan Sampel Data"
   ]
  },
  {
   "cell_type": "markdown",
   "metadata": {},
   "source": [
    "Karena keterbatasan sumber daya, pada pemodelan ini hanya akan menggunakan 100.000 sample data **users**. Ini sudah cukup untuk menghasilkan model CF yang baik."
   ]
  },
  {
   "cell_type": "code",
   "execution_count": 60,
   "metadata": {},
   "outputs": [],
   "source": [
    "users_data_subset = users_data.sample(n=100000, random_state=9)"
   ]
  },
  {
   "cell_type": "markdown",
   "metadata": {},
   "source": [
    "##### 1.2 Encoding user_id dan anime_id"
   ]
  },
  {
   "cell_type": "code",
   "execution_count": 61,
   "metadata": {},
   "outputs": [
    {
     "data": {
      "text/html": [
       "<div>\n",
       "<style scoped>\n",
       "    .dataframe tbody tr th:only-of-type {\n",
       "        vertical-align: middle;\n",
       "    }\n",
       "\n",
       "    .dataframe tbody tr th {\n",
       "        vertical-align: top;\n",
       "    }\n",
       "\n",
       "    .dataframe thead th {\n",
       "        text-align: right;\n",
       "    }\n",
       "</style>\n",
       "<table border=\"1\" class=\"dataframe\">\n",
       "  <thead>\n",
       "    <tr style=\"text-align: right;\">\n",
       "      <th></th>\n",
       "      <th>user_id</th>\n",
       "      <th>anime_id</th>\n",
       "      <th>rating</th>\n",
       "      <th>user_encoded</th>\n",
       "      <th>anime_encoded</th>\n",
       "    </tr>\n",
       "  </thead>\n",
       "  <tbody>\n",
       "    <tr>\n",
       "      <th>45364020</th>\n",
       "      <td>278331</td>\n",
       "      <td>1313</td>\n",
       "      <td>6</td>\n",
       "      <td>0</td>\n",
       "      <td>0</td>\n",
       "    </tr>\n",
       "    <tr>\n",
       "      <th>25154541</th>\n",
       "      <td>154964</td>\n",
       "      <td>5162</td>\n",
       "      <td>8</td>\n",
       "      <td>1</td>\n",
       "      <td>1</td>\n",
       "    </tr>\n",
       "    <tr>\n",
       "      <th>5906088</th>\n",
       "      <td>36251</td>\n",
       "      <td>35120</td>\n",
       "      <td>7</td>\n",
       "      <td>2</td>\n",
       "      <td>2</td>\n",
       "    </tr>\n",
       "    <tr>\n",
       "      <th>4958325</th>\n",
       "      <td>30401</td>\n",
       "      <td>3588</td>\n",
       "      <td>10</td>\n",
       "      <td>3</td>\n",
       "      <td>3</td>\n",
       "    </tr>\n",
       "    <tr>\n",
       "      <th>30267658</th>\n",
       "      <td>186256</td>\n",
       "      <td>20</td>\n",
       "      <td>8</td>\n",
       "      <td>4</td>\n",
       "      <td>4</td>\n",
       "    </tr>\n",
       "  </tbody>\n",
       "</table>\n",
       "</div>"
      ],
      "text/plain": [
       "          user_id  anime_id  rating  user_encoded  anime_encoded\n",
       "45364020   278331      1313       6             0              0\n",
       "25154541   154964      5162       8             1              1\n",
       "5906088     36251     35120       7             2              2\n",
       "4958325     30401      3588      10             3              3\n",
       "30267658   186256        20       8             4              4"
      ]
     },
     "execution_count": 61,
     "metadata": {},
     "output_type": "execute_result"
    }
   ],
   "source": [
    "# Mengubah user_id dan anime_id menjadi unique list\n",
    "user_ids = users_data_subset['user_id'].unique().tolist()\n",
    "anime_ids = users_data_subset['anime_id'].unique().tolist()\n",
    "\n",
    "# Encoding user_id dan anime_id\n",
    "user_to_user_encoded = {x: i for i, x in enumerate(user_ids)}\n",
    "anime_to_anime_encoded = {x: i for i, x in enumerate(anime_ids)}\n",
    "\n",
    "# Mapping hasil encoding ke dataframe\n",
    "users_data_subset['user_encoded'] = users_data_subset['user_id'].map(user_to_user_encoded)\n",
    "users_data_subset['anime_encoded'] = users_data_subset['anime_id'].map(anime_to_anime_encoded)\n",
    "\n",
    "users_data_subset.head()"
   ]
  },
  {
   "cell_type": "markdown",
   "metadata": {},
   "source": [
    "##### 1.3 Normalisasi Rating Ke Rentang 0-1"
   ]
  },
  {
   "cell_type": "code",
   "execution_count": 62,
   "metadata": {},
   "outputs": [],
   "source": [
    "min_rating = users_data_subset['rating'].min()\n",
    "max_rating = users_data_subset['rating'].max()\n",
    "\n",
    "# Normalisasi kolom rating ke rentang 0-1, dan simpan pada kolom baru yaitu 'normalized_rating'\n",
    "users_data_subset['normalized_rating'] = users_data_subset['rating'].apply(lambda x: (x - min_rating) / (max_rating - min_rating))"
   ]
  },
  {
   "cell_type": "code",
   "execution_count": 63,
   "metadata": {},
   "outputs": [
    {
     "data": {
      "text/html": [
       "<div>\n",
       "<style scoped>\n",
       "    .dataframe tbody tr th:only-of-type {\n",
       "        vertical-align: middle;\n",
       "    }\n",
       "\n",
       "    .dataframe tbody tr th {\n",
       "        vertical-align: top;\n",
       "    }\n",
       "\n",
       "    .dataframe thead th {\n",
       "        text-align: right;\n",
       "    }\n",
       "</style>\n",
       "<table border=\"1\" class=\"dataframe\">\n",
       "  <thead>\n",
       "    <tr style=\"text-align: right;\">\n",
       "      <th></th>\n",
       "      <th>user_id</th>\n",
       "      <th>anime_id</th>\n",
       "      <th>rating</th>\n",
       "      <th>user_encoded</th>\n",
       "      <th>anime_encoded</th>\n",
       "      <th>normalized_rating</th>\n",
       "    </tr>\n",
       "  </thead>\n",
       "  <tbody>\n",
       "    <tr>\n",
       "      <th>45364020</th>\n",
       "      <td>278331</td>\n",
       "      <td>1313</td>\n",
       "      <td>6</td>\n",
       "      <td>0</td>\n",
       "      <td>0</td>\n",
       "      <td>0.555556</td>\n",
       "    </tr>\n",
       "    <tr>\n",
       "      <th>25154541</th>\n",
       "      <td>154964</td>\n",
       "      <td>5162</td>\n",
       "      <td>8</td>\n",
       "      <td>1</td>\n",
       "      <td>1</td>\n",
       "      <td>0.777778</td>\n",
       "    </tr>\n",
       "    <tr>\n",
       "      <th>5906088</th>\n",
       "      <td>36251</td>\n",
       "      <td>35120</td>\n",
       "      <td>7</td>\n",
       "      <td>2</td>\n",
       "      <td>2</td>\n",
       "      <td>0.666667</td>\n",
       "    </tr>\n",
       "    <tr>\n",
       "      <th>4958325</th>\n",
       "      <td>30401</td>\n",
       "      <td>3588</td>\n",
       "      <td>10</td>\n",
       "      <td>3</td>\n",
       "      <td>3</td>\n",
       "      <td>1.000000</td>\n",
       "    </tr>\n",
       "    <tr>\n",
       "      <th>30267658</th>\n",
       "      <td>186256</td>\n",
       "      <td>20</td>\n",
       "      <td>8</td>\n",
       "      <td>4</td>\n",
       "      <td>4</td>\n",
       "      <td>0.777778</td>\n",
       "    </tr>\n",
       "  </tbody>\n",
       "</table>\n",
       "</div>"
      ],
      "text/plain": [
       "          user_id  anime_id  rating  user_encoded  anime_encoded  \\\n",
       "45364020   278331      1313       6             0              0   \n",
       "25154541   154964      5162       8             1              1   \n",
       "5906088     36251     35120       7             2              2   \n",
       "4958325     30401      3588      10             3              3   \n",
       "30267658   186256        20       8             4              4   \n",
       "\n",
       "          normalized_rating  \n",
       "45364020           0.555556  \n",
       "25154541           0.777778  \n",
       "5906088            0.666667  \n",
       "4958325            1.000000  \n",
       "30267658           0.777778  "
      ]
     },
     "execution_count": 63,
     "metadata": {},
     "output_type": "execute_result"
    }
   ],
   "source": [
    "users_data_subset.head()"
   ]
  },
  {
   "cell_type": "markdown",
   "metadata": {},
   "source": [
    "##### 1.4 Split Data menjadi Data Training (70%), Data Validation (20%) dan Data Test (10%)"
   ]
  },
  {
   "cell_type": "code",
   "execution_count": 67,
   "metadata": {},
   "outputs": [
    {
     "name": "stdout",
     "output_type": "stream",
     "text": [
      "Training data size: 70000 samples\n",
      "Validation data size: 20000 samples\n",
      "Testing data size: 10000 samples\n"
     ]
    }
   ],
   "source": [
    "X = users_data_subset[['user_encoded', 'anime_encoded']]\n",
    "y = users_data_subset['normalized_rating'].values\n",
    "\n",
    "# Pertama, bagi data menjadi 80% untuk training + validation dan 20% untuk testing\n",
    "X_train_val, X_val, y_train_val, y_val = train_test_split(X, y, test_size=0.2, random_state=42)\n",
    "\n",
    "# Kedua, bagi data training + validation menjadi 70% untuk training dan 10% untuk validation\n",
    "X_train, X_test, y_train, y_test = train_test_split(X_train_val, y_train_val, test_size=0.125, random_state=42)\n",
    "\n",
    "# Menampilkan ukuran data untuk memastikan pembagian\n",
    "print(f\"Training data size: {X_train.shape[0]} samples\")\n",
    "print(f\"Validation data size: {X_val.shape[0]} samples\")\n",
    "print(f\"Testing data size: {X_test.shape[0]} samples\")"
   ]
  },
  {
   "cell_type": "markdown",
   "metadata": {},
   "source": [
    "#### Training"
   ]
  },
  {
   "cell_type": "code",
   "execution_count": 35,
   "metadata": {},
   "outputs": [],
   "source": [
    "class NeuralCollaborativeFiltering(tf.keras.Model):\n",
    "    def __init__(self, num_users, num_items, embedding_size, dropout_rate=0.3, mlp_hidden_layers=[64, 32, 16], **kwargs):\n",
    "        super(NeuralCollaborativeFiltering, self).__init__(**kwargs)\n",
    "        self.num_users = num_users\n",
    "        self.num_items = num_items\n",
    "        self.embedding_size = embedding_size\n",
    "        self.dropout_rate = dropout_rate\n",
    "        self.mlp_hidden_layers = mlp_hidden_layers\n",
    "        \n",
    "        # Embedding layer untuk user\n",
    "        self.user_embedding = tf.keras.layers.Embedding(\n",
    "            num_users,\n",
    "            embedding_size,\n",
    "            embeddings_initializer='he_normal',\n",
    "            embeddings_regularizer=tf.keras.regularizers.l2(1e-6)\n",
    "        )\n",
    "        \n",
    "        # Bias embedding untuk user\n",
    "        self.user_bias = tf.keras.layers.Embedding(num_users, 1)\n",
    "        \n",
    "        # Embedding layer untuk item\n",
    "        self.item_embedding = tf.keras.layers.Embedding(\n",
    "            num_items,\n",
    "            embedding_size,\n",
    "            embeddings_initializer='he_normal',\n",
    "            embeddings_regularizer=tf.keras.regularizers.l2(1e-6)\n",
    "        )\n",
    "        \n",
    "        # Bias embedding untuk item\n",
    "        self.item_bias = tf.keras.layers.Embedding(num_items, 1)\n",
    "        \n",
    "        # Dropout layer\n",
    "        self.dropout = tf.keras.layers.Dropout(rate=self.dropout_rate)\n",
    "\n",
    "        # MLP layers (fully connected layers)\n",
    "        self.mlp_layers = []\n",
    "        for units in mlp_hidden_layers:\n",
    "            self.mlp_layers.append(tf.keras.layers.Dense(units, activation='relu'))\n",
    "            self.mlp_layers.append(tf.keras.layers.Dropout(self.dropout_rate))\n",
    "        \n",
    "        # Final prediction layer\n",
    "        self.final_layer = tf.keras.layers.Dense(1, activation='sigmoid')\n",
    "    \n",
    "    def call(self, inputs):\n",
    "        # Mengambil vector embedding untuk user dan item dari input\n",
    "        user_vector = self.user_embedding(inputs[:, 0])\n",
    "        user_bias = self.user_bias(inputs[:, 0])\n",
    "        item_vector = self.item_embedding(inputs[:, 1])\n",
    "        item_bias = self.item_bias(inputs[:, 1])\n",
    "        \n",
    "        # Menggunakan dropout pada user dan item vector\n",
    "        user_vector = self.dropout(user_vector)\n",
    "        item_vector = self.dropout(item_vector)\n",
    "        \n",
    "        # Menggabungkan vektor embedding user dan item\n",
    "        concatenated = tf.concat([user_vector, item_vector], axis=-1)\n",
    "        \n",
    "        # Melewati concatenated vector melalui MLP\n",
    "        x = concatenated\n",
    "        for layer in self.mlp_layers:\n",
    "            x = layer(x)\n",
    "        \n",
    "        # Menghitung dot product untuk interaksi linier\n",
    "        dot_user_item = tf.reduce_sum(tf.multiply(user_vector, item_vector), axis=1, keepdims=True)\n",
    "        \n",
    "        # Menambahkan bias\n",
    "        x = dot_user_item + user_bias + item_bias\n",
    "        \n",
    "        # Melewati final layer untuk prediksi akhir\n",
    "        x = self.final_layer(x)\n",
    "        \n",
    "        return x"
   ]
  },
  {
   "cell_type": "code",
   "execution_count": 36,
   "metadata": {},
   "outputs": [],
   "source": [
    "# Menghitung Jumlah User dan Item\n",
    "num_users = users_data_subset['user_encoded'].nunique()\n",
    "num_items = users_data_subset['anime_encoded'].nunique()"
   ]
  },
  {
   "cell_type": "code",
   "execution_count": null,
   "metadata": {},
   "outputs": [],
   "source": [
    "model = NeuralCollaborativeFiltering(num_users, num_items, 50)\n",
    "\n",
    "model.compile(\n",
    "    loss=tf.keras.losses.BinaryCrossentropy(),\n",
    "    optimizer=tf.keras.optimizers.Adam(learning_rate=0.0001),\n",
    "    metrics=[tf.keras.metrics.RootMeanSquaredError()]\n",
    ")"
   ]
  },
  {
   "cell_type": "code",
   "execution_count": null,
   "metadata": {},
   "outputs": [
    {
     "name": "stdout",
     "output_type": "stream",
     "text": [
      "Epoch 1/20\n",
      "\u001b[1m1094/1094\u001b[0m \u001b[32m━━━━━━━━━━━━━━━━━━━━\u001b[0m\u001b[37m\u001b[0m \u001b[1m30s\u001b[0m 27ms/step - loss: 0.6872 - root_mean_squared_error: 0.2870 - val_loss: 0.6685 - val_root_mean_squared_error: 0.2722\n",
      "Epoch 2/20\n",
      "\u001b[1m1094/1094\u001b[0m \u001b[32m━━━━━━━━━━━━━━━━━━━━\u001b[0m\u001b[37m\u001b[0m \u001b[1m31s\u001b[0m 28ms/step - loss: 0.6632 - root_mean_squared_error: 0.2649 - val_loss: 0.6470 - val_root_mean_squared_error: 0.2518\n",
      "Epoch 3/20\n",
      "\u001b[1m1094/1094\u001b[0m \u001b[32m━━━━━━━━━━━━━━━━━━━━\u001b[0m\u001b[37m\u001b[0m \u001b[1m32s\u001b[0m 29ms/step - loss: 0.6419 - root_mean_squared_error: 0.2454 - val_loss: 0.6289 - val_root_mean_squared_error: 0.2335\n",
      "Epoch 4/20\n",
      "\u001b[1m1094/1094\u001b[0m \u001b[32m━━━━━━━━━━━━━━━━━━━━\u001b[0m\u001b[37m\u001b[0m \u001b[1m29s\u001b[0m 26ms/step - loss: 0.6240 - root_mean_squared_error: 0.2255 - val_loss: 0.6141 - val_root_mean_squared_error: 0.2177\n",
      "Epoch 5/20\n",
      "\u001b[1m1094/1094\u001b[0m \u001b[32m━━━━━━━━━━━━━━━━━━━━\u001b[0m\u001b[37m\u001b[0m \u001b[1m28s\u001b[0m 26ms/step - loss: 0.6082 - root_mean_squared_error: 0.2088 - val_loss: 0.6026 - val_root_mean_squared_error: 0.2048\n",
      "Epoch 6/20\n",
      "\u001b[1m1094/1094\u001b[0m \u001b[32m━━━━━━━━━━━━━━━━━━━━\u001b[0m\u001b[37m\u001b[0m \u001b[1m28s\u001b[0m 26ms/step - loss: 0.5941 - root_mean_squared_error: 0.1935 - val_loss: 0.5941 - val_root_mean_squared_error: 0.1949\n",
      "Epoch 7/20\n",
      "\u001b[1m1094/1094\u001b[0m \u001b[32m━━━━━━━━━━━━━━━━━━━━\u001b[0m\u001b[37m\u001b[0m \u001b[1m30s\u001b[0m 27ms/step - loss: 0.5846 - root_mean_squared_error: 0.1820 - val_loss: 0.5882 - val_root_mean_squared_error: 0.1880\n",
      "Epoch 8/20\n",
      "\u001b[1m1094/1094\u001b[0m \u001b[32m━━━━━━━━━━━━━━━━━━━━\u001b[0m\u001b[37m\u001b[0m \u001b[1m29s\u001b[0m 26ms/step - loss: 0.5764 - root_mean_squared_error: 0.1719 - val_loss: 0.5845 - val_root_mean_squared_error: 0.1835\n",
      "Epoch 9/20\n",
      "\u001b[1m1094/1094\u001b[0m \u001b[32m━━━━━━━━━━━━━━━━━━━━\u001b[0m\u001b[37m\u001b[0m \u001b[1m29s\u001b[0m 27ms/step - loss: 0.5694 - root_mean_squared_error: 0.1636 - val_loss: 0.5824 - val_root_mean_squared_error: 0.1809\n",
      "Epoch 10/20\n",
      "\u001b[1m1094/1094\u001b[0m \u001b[32m━━━━━━━━━━━━━━━━━━━━\u001b[0m\u001b[37m\u001b[0m \u001b[1m31s\u001b[0m 28ms/step - loss: 0.5629 - root_mean_squared_error: 0.1560 - val_loss: 0.5812 - val_root_mean_squared_error: 0.1793\n",
      "Epoch 11/20\n",
      "\u001b[1m1094/1094\u001b[0m \u001b[32m━━━━━━━━━━━━━━━━━━━━\u001b[0m\u001b[37m\u001b[0m \u001b[1m32s\u001b[0m 29ms/step - loss: 0.5578 - root_mean_squared_error: 0.1486 - val_loss: 0.5806 - val_root_mean_squared_error: 0.1781\n",
      "Epoch 12/20\n",
      "\u001b[1m1094/1094\u001b[0m \u001b[32m━━━━━━━━━━━━━━━━━━━━\u001b[0m\u001b[37m\u001b[0m \u001b[1m39s\u001b[0m 27ms/step - loss: 0.5521 - root_mean_squared_error: 0.1408 - val_loss: 0.5801 - val_root_mean_squared_error: 0.1772\n",
      "Epoch 13/20\n",
      "\u001b[1m1094/1094\u001b[0m \u001b[32m━━━━━━━━━━━━━━━━━━━━\u001b[0m\u001b[37m\u001b[0m \u001b[1m31s\u001b[0m 28ms/step - loss: 0.5462 - root_mean_squared_error: 0.1311 - val_loss: 0.5797 - val_root_mean_squared_error: 0.1763\n",
      "Epoch 14/20\n",
      "\u001b[1m1094/1094\u001b[0m \u001b[32m━━━━━━━━━━━━━━━━━━━━\u001b[0m\u001b[37m\u001b[0m \u001b[1m31s\u001b[0m 28ms/step - loss: 0.5408 - root_mean_squared_error: 0.1250 - val_loss: 0.5793 - val_root_mean_squared_error: 0.1755\n",
      "Epoch 15/20\n",
      "\u001b[1m1094/1094\u001b[0m \u001b[32m━━━━━━━━━━━━━━━━━━━━\u001b[0m\u001b[37m\u001b[0m \u001b[1m31s\u001b[0m 28ms/step - loss: 0.5358 - root_mean_squared_error: 0.1148 - val_loss: 0.5790 - val_root_mean_squared_error: 0.1747\n",
      "Epoch 16/20\n",
      "\u001b[1m1094/1094\u001b[0m \u001b[32m━━━━━━━━━━━━━━━━━━━━\u001b[0m\u001b[37m\u001b[0m \u001b[1m31s\u001b[0m 29ms/step - loss: 0.5299 - root_mean_squared_error: 0.1069 - val_loss: 0.5787 - val_root_mean_squared_error: 0.1740\n",
      "Epoch 17/20\n",
      "\u001b[1m1094/1094\u001b[0m \u001b[32m━━━━━━━━━━━━━━━━━━━━\u001b[0m\u001b[37m\u001b[0m \u001b[1m33s\u001b[0m 30ms/step - loss: 0.5256 - root_mean_squared_error: 0.0985 - val_loss: 0.5784 - val_root_mean_squared_error: 0.1734\n",
      "Epoch 18/20\n",
      "\u001b[1m1094/1094\u001b[0m \u001b[32m━━━━━━━━━━━━━━━━━━━━\u001b[0m\u001b[37m\u001b[0m \u001b[1m32s\u001b[0m 29ms/step - loss: 0.5235 - root_mean_squared_error: 0.0904 - val_loss: 0.5782 - val_root_mean_squared_error: 0.1728\n",
      "Epoch 19/20\n",
      "\u001b[1m1094/1094\u001b[0m \u001b[32m━━━━━━━━━━━━━━━━━━━━\u001b[0m\u001b[37m\u001b[0m \u001b[1m32s\u001b[0m 29ms/step - loss: 0.5197 - root_mean_squared_error: 0.0845 - val_loss: 0.5780 - val_root_mean_squared_error: 0.1723\n",
      "Epoch 20/20\n",
      "\u001b[1m1094/1094\u001b[0m \u001b[32m━━━━━━━━━━━━━━━━━━━━\u001b[0m\u001b[37m\u001b[0m \u001b[1m32s\u001b[0m 29ms/step - loss: 0.5170 - root_mean_squared_error: 0.0771 - val_loss: 0.5778 - val_root_mean_squared_error: 0.1719\n"
     ]
    }
   ],
   "source": [
    "history = model.fit(\n",
    "    X_train, \n",
    "    y_train,\n",
    "    batch_size=64,\n",
    "    epochs=20,\n",
    "    validation_data=(X_val, y_val),\n",
    ")"
   ]
  },
  {
   "cell_type": "code",
   "execution_count": null,
   "metadata": {},
   "outputs": [
    {
     "data": {
      "image/png": "[encoded data removed]",
      "text/plain": [
       "<Figure size 640x480 with 1 Axes>"
      ]
     },
     "metadata": {},
     "output_type": "display_data"
    }
   ],
   "source": [
    "plt.plot(history.history['root_mean_squared_error'])\n",
    "plt.plot(history.history['val_root_mean_squared_error'])\n",
    "plt.title('Training Result')\n",
    "plt.xlabel('Epoch')\n",
    "plt.ylabel('root_mean_squared_error')\n",
    "plt.legend(['train', 'val'], loc='lower right')\n",
    "plt.show()"
   ]
  },
  {
   "cell_type": "markdown",
   "metadata": {},
   "source": [
    "#### Mendapatkan Top-N Recommendations"
   ]
  },
  {
   "cell_type": "code",
   "execution_count": null,
   "metadata": {},
   "outputs": [
    {
     "name": "stdout",
     "output_type": "stream",
     "text": [
      "Showing recommendations for user ID: 18802\n",
      "===========================\n",
      "Top 10 Anime Recommendations\n",
      "===========================\n",
      "Fullmetal Alchemist: Brotherhood\n",
      "Hunter x Hunter (2011)\n",
      "Code Geass: Hangyaku no Lelouch\n",
      "One Punch Man\n",
      "Steins;Gate\n",
      "Koe no Katachi\n",
      "Code Geass: Hangyaku no Lelouch R2\n",
      "Death Note\n",
      "Sen to Chihiro no Kamikakushi\n",
      "Shingeki no Kyojin Season 3 Part 2\n"
     ]
    }
   ],
   "source": [
    "# Pilih user secara acak\n",
    "random_user_id = random.choice(users_data_subset['user_id'].unique())\n",
    "print(f\"Showing recommendations for user ID: {random_user_id}\")\n",
    "print(\"===========================\")\n",
    "print(\"Top 10 Anime Recommendations\")\n",
    "print(\"===========================\")\n",
    "\n",
    "# Mengambil index encoded untuk user acak\n",
    "user_encoded = user_to_user_encoded[random_user_id]\n",
    "\n",
    "predicted_ratings = []\n",
    "\n",
    "for anime_id in anime_ids:\n",
    "    anime_encoded = anime_to_anime_encoded[anime_id]\n",
    "    \n",
    "    # Gabungkan input pengguna dan item\n",
    "    input_data = np.array([[user_encoded, anime_encoded]])\n",
    "\n",
    "    # Prediksi rating\n",
    "    predicted_rating = model.predict(input_data, verbose=0)[0][0]\n",
    "    \n",
    "    predicted_ratings.append((anime_id, predicted_rating))\n",
    "\n",
    "# Urutkan berdasarkan rating tertinggi\n",
    "predicted_ratings.sort(key=lambda x: x[1], reverse=True)\n",
    "\n",
    "# Ambil top 10 anime berdasarkan prediksi rating\n",
    "top_10_anime_ids = [anime_id for anime_id, _ in predicted_ratings[:10]]\n",
    "\n",
    "# Tampilkan nama-nama anime yang ada di top 10\n",
    "for anime_id in top_10_anime_ids:\n",
    "    anime_name = anime_data.loc[anime_data['MAL_ID'] == anime_id, 'Name'].values[0]\n",
    "    print(anime_name)"
   ]
  },
  {
   "cell_type": "markdown",
   "metadata": {},
   "source": [
    "### Evaluasi"
   ]
  },
  {
   "cell_type": "markdown",
   "metadata": {},
   "source": [
    "Metrik evaluasi menggunakan Root Mean Squared Error (RMSE)."
   ]
  },
  {
   "cell_type": "code",
   "execution_count": null,
   "metadata": {},
   "outputs": [
    {
     "name": "stdout",
     "output_type": "stream",
     "text": [
      "\u001b[1m157/157\u001b[0m \u001b[32m━━━━━━━━━━━━━━━━━━━━\u001b[0m\u001b[37m\u001b[0m \u001b[1m1s\u001b[0m 6ms/step - loss: 0.5772 - root_mean_squared_error: 0.1727\n",
      "Test RMSE: 0.1728\n"
     ]
    }
   ],
   "source": [
    "# Evaluasi pada data test dengan RMSE\n",
    "_, rmse_test = model.evaluate(X_test, y_test, batch_size=64)\n",
    "\n",
    "print(f\"Test RMSE: {rmse_test:.4f}\")"
   ]
  }
 ],
 "metadata": {
  "kernelspec": {
   "display_name": "base",
   "language": "python",
   "name": "python3"
  },
  "language_info": {
   "codemirror_mode": {
    "name": "ipython",
    "version": 3
   },
   "file_extension": ".py",
   "mimetype": "text/x-python",
   "name": "python",
   "nbconvert_exporter": "python",
   "pygments_lexer": "ipython3",
   "version": "3.11.5"
  }
 },
 "nbformat": 4,
 "nbformat_minor": 2
}
